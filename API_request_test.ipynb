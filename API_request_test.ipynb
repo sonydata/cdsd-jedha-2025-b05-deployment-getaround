{
 "cells": [
  {
   "cell_type": "code",
   "execution_count": 7,
   "metadata": {},
   "outputs": [
    {
     "name": "stdout",
     "output_type": "stream",
     "text": [
      "{'prediction': [102.4]}\n"
     ]
    }
   ],
   "source": [
    "import requests\n",
    "\n",
    "response = requests.post(\"https://sony9316-getaround-pricing-api.hf.space/predict\", json={\n",
    "    \"input\": [{\n",
    "        \"model_key\": \"Peugeot\",\n",
    "        \"mileage\": 174631,\n",
    "        \"engine_power\": 120,\n",
    "        \"fuel\": \"diesel\",\n",
    "        \"paint_color\": \"black\",\n",
    "        \"car_type\": \"convertible\",\n",
    "        \"private_parking_available\": True,\n",
    "        \"has_gps\": True,\n",
    "        \"has_air_conditioning\": True,\n",
    "        \"automatic_car\": False,\n",
    "        \"has_getaround_connect\": True,\n",
    "        \"has_speed_regulator\": True,\n",
    "        \"winter_tires\": False\n",
    "    }]\n",
    "})\n",
    "\n",
    "print(response.json())"
   ]
  }
 ],
 "metadata": {
  "kernelspec": {
   "display_name": "Python 3",
   "language": "python",
   "name": "python3"
  },
  "language_info": {
   "codemirror_mode": {
    "name": "ipython",
    "version": 3
   },
   "file_extension": ".py",
   "mimetype": "text/x-python",
   "name": "python",
   "nbconvert_exporter": "python",
   "pygments_lexer": "ipython3",
   "version": "3.13.2"
  }
 },
 "nbformat": 4,
 "nbformat_minor": 2
}
